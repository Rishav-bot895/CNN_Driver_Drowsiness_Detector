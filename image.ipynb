{
 "cells": [
  {
   "cell_type": "code",
   "execution_count": 2,
   "id": "a911a255",
   "metadata": {},
   "outputs": [],
   "source": [
    "import os\n",
    "import numpy as np \n",
    "#to get training and test data\n",
    "from sklearn.model_selection import train_test_split\n",
    "# to work on images \n",
    "from PIL import Image"
   ]
  },
  {
   "cell_type": "code",
   "execution_count": 3,
   "id": "92c9a5bc",
   "metadata": {},
   "outputs": [],
   "source": [
    "# Path to the image folder -----------------------------------change this accordingly \n",
    "image_folder = \"train\""
   ]
  },
  {
   "cell_type": "code",
   "execution_count": 4,
   "id": "30b90bf0",
   "metadata": {},
   "outputs": [
    {
     "name": "stdout",
     "output_type": "stream",
     "text": [
      "Shape of images: (1452, 200, 200)\n",
      "Shape of labels: (1452,)\n"
     ]
    }
   ],
   "source": [
    "# Initialize lists\n",
    "image_list = []\n",
    "label_list = []\n",
    "\n",
    "# Optional: define class labels from folder names\n",
    "class_names = os.listdir(image_folder)\n",
    "class_names.sort()  # Ensure consistent label mapping\n",
    "\n",
    "# Loop through each class subfolder\n",
    "for label, class_name in enumerate(class_names):\n",
    "    class_path = os.path.join(image_folder, class_name)\n",
    "    if not os.path.isdir(class_path):\n",
    "        continue\n",
    "    for img_name in os.listdir(class_path):\n",
    "        img_path = os.path.join(class_path, img_name)\n",
    "        try:\n",
    "            img = Image.open(img_path).convert('L')# L is for 8 bit grey scale image \n",
    "            img = img.resize((200,200))  # Resize to desired shape\n",
    "            img_array = np.array(img)\n",
    "            image_list.append(img_array)\n",
    "            label_list.append(label)\n",
    "        except Exception as e:\n",
    "            print(f\"Failed to load {img_path}: {e}\")\n",
    "\n",
    "# Convert to NumPy arrays\n",
    "images = np.array(image_list)\n",
    "labels = np.array(label_list)\n",
    "\n",
    "print(\"Shape of images:\", images.shape)\n",
    "print(\"Shape of labels:\", labels.shape)"
   ]
  },
  {
   "cell_type": "code",
   "execution_count": 5,
   "id": "8c92979d",
   "metadata": {},
   "outputs": [
    {
     "name": "stdout",
     "output_type": "stream",
     "text": [
      "{'Closed': 0, 'Open': 1}\n"
     ]
    }
   ],
   "source": [
    "label_map = {class_name: label for label, class_name in enumerate(class_names)}\n",
    "print(label_map)"
   ]
  },
  {
   "cell_type": "code",
   "execution_count": 6,
   "id": "d9a3f103",
   "metadata": {},
   "outputs": [],
   "source": [
    "output_folder = 'output'\n",
    "os.makedirs(output_folder, exist_ok=True)\n",
    "\n",
    "class_names = os.listdir(image_folder)\n",
    "class_names.sort()\n",
    "\n",
    "for i in range(len(images)):\n",
    "    img = images[i]\n",
    "    label = labels[i]\n",
    "    class_name = class_names[label]  # Get class name from label\n",
    "\n",
    "\n",
    "    '''BUGS---here the image name for lable 2 starts from 726 but should ideally start from 1 '''\n",
    "\n",
    "    # Create folder using class name\n",
    "    label_path = os.path.join(output_folder, class_name)\n",
    "    os.makedirs(label_path, exist_ok=True)\n",
    "\n",
    "    # Save image\n",
    "    img_path = os.path.join(label_path, f'image_{i}.png')\n",
    "    Image.fromarray(img.astype(np.uint8)).save(img_path)"
   ]
  },
  {
   "cell_type": "code",
   "execution_count": null,
   "id": "439b7926",
   "metadata": {},
   "outputs": [],
   "source": []
  }
 ],
 "metadata": {
  "kernelspec": {
   "display_name": "Python 3",
   "language": "python",
   "name": "python3"
  },
  "language_info": {
   "codemirror_mode": {
    "name": "ipython",
    "version": 3
   },
   "file_extension": ".py",
   "mimetype": "text/x-python",
   "name": "python",
   "nbconvert_exporter": "python",
   "pygments_lexer": "ipython3",
   "version": "3.11.8"
  }
 },
 "nbformat": 4,
 "nbformat_minor": 5
}
